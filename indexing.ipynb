{
 "cells": [
  {
   "cell_type": "markdown",
   "metadata": {},
   "source": [
    "The Pandas I/O API is a set of top level reader functions accessed like pd.read_csv() that generally return a Pandas object."
   ]
  },
  {
   "cell_type": "code",
   "execution_count": 4,
   "metadata": {
    "scrolled": true
   },
   "outputs": [
    {
     "name": "stdout",
     "output_type": "stream",
     "text": [
      "     TIME                            GEO  \\\n",
      "0    2000  European Union (28 countries)   \n",
      "1    2001  European Union (28 countries)   \n",
      "2    2002  European Union (28 countries)   \n",
      "3    2003  European Union (28 countries)   \n",
      "4    2004  European Union (28 countries)   \n",
      "5    2005  European Union (28 countries)   \n",
      "6    2006  European Union (28 countries)   \n",
      "7    2007  European Union (28 countries)   \n",
      "8    2008  European Union (28 countries)   \n",
      "9    2009  European Union (28 countries)   \n",
      "10   2010  European Union (28 countries)   \n",
      "11   2011  European Union (28 countries)   \n",
      "12   2000  European Union (27 countries)   \n",
      "13   2001  European Union (27 countries)   \n",
      "14   2002  European Union (27 countries)   \n",
      "15   2003  European Union (27 countries)   \n",
      "16   2004  European Union (27 countries)   \n",
      "17   2005  European Union (27 countries)   \n",
      "18   2006  European Union (27 countries)   \n",
      "19   2007  European Union (27 countries)   \n",
      "20   2008  European Union (27 countries)   \n",
      "21   2009  European Union (27 countries)   \n",
      "22   2010  European Union (27 countries)   \n",
      "23   2011  European Union (27 countries)   \n",
      "24   2000  European Union (25 countries)   \n",
      "25   2001  European Union (25 countries)   \n",
      "26   2002  European Union (25 countries)   \n",
      "27   2003  European Union (25 countries)   \n",
      "28   2004  European Union (25 countries)   \n",
      "29   2005  European Union (25 countries)   \n",
      "..    ...                            ...   \n",
      "354  2006                       Slovenia   \n",
      "355  2007                       Slovenia   \n",
      "356  2008                       Slovenia   \n",
      "357  2009                       Slovenia   \n",
      "358  2010                       Slovenia   \n",
      "359  2011                       Slovenia   \n",
      "360  2000                       Slovakia   \n",
      "361  2001                       Slovakia   \n",
      "362  2002                       Slovakia   \n",
      "363  2003                       Slovakia   \n",
      "364  2004                       Slovakia   \n",
      "365  2005                       Slovakia   \n",
      "366  2006                       Slovakia   \n",
      "367  2007                       Slovakia   \n",
      "368  2008                       Slovakia   \n",
      "369  2009                       Slovakia   \n",
      "370  2010                       Slovakia   \n",
      "371  2011                       Slovakia   \n",
      "372  2000                        Finland   \n",
      "373  2001                        Finland   \n",
      "374  2002                        Finland   \n",
      "375  2003                        Finland   \n",
      "376  2004                        Finland   \n",
      "377  2005                        Finland   \n",
      "378  2006                        Finland   \n",
      "379  2007                        Finland   \n",
      "380  2008                        Finland   \n",
      "381  2009                        Finland   \n",
      "382  2010                        Finland   \n",
      "383  2011                        Finland   \n",
      "\n",
      "                                              INDIC_ED Value  \\\n",
      "0    Total public expenditure on education as % of ...     :   \n",
      "1    Total public expenditure on education as % of ...     :   \n",
      "2    Total public expenditure on education as % of ...  5.00   \n",
      "3    Total public expenditure on education as % of ...  5.03   \n",
      "4    Total public expenditure on education as % of ...  4.95   \n",
      "5    Total public expenditure on education as % of ...  4.92   \n",
      "6    Total public expenditure on education as % of ...  4.91   \n",
      "7    Total public expenditure on education as % of ...  4.92   \n",
      "8    Total public expenditure on education as % of ...  5.04   \n",
      "9    Total public expenditure on education as % of ...  5.38   \n",
      "10   Total public expenditure on education as % of ...  5.41   \n",
      "11   Total public expenditure on education as % of ...  5.25   \n",
      "12   Total public expenditure on education as % of ...  4.91   \n",
      "13   Total public expenditure on education as % of ...  4.99   \n",
      "14   Total public expenditure on education as % of ...  5.00   \n",
      "15   Total public expenditure on education as % of ...  5.04   \n",
      "16   Total public expenditure on education as % of ...  4.95   \n",
      "17   Total public expenditure on education as % of ...  4.92   \n",
      "18   Total public expenditure on education as % of ...  4.91   \n",
      "19   Total public expenditure on education as % of ...  4.93   \n",
      "20   Total public expenditure on education as % of ...  5.04   \n",
      "21   Total public expenditure on education as % of ...  5.38   \n",
      "22   Total public expenditure on education as % of ...  5.41   \n",
      "23   Total public expenditure on education as % of ...  5.25   \n",
      "24   Total public expenditure on education as % of ...  4.94   \n",
      "25   Total public expenditure on education as % of ...  5.02   \n",
      "26   Total public expenditure on education as % of ...  5.03   \n",
      "27   Total public expenditure on education as % of ...  5.06   \n",
      "28   Total public expenditure on education as % of ...  4.98   \n",
      "29   Total public expenditure on education as % of ...  4.95   \n",
      "..                                                 ...   ...   \n",
      "354  Total public expenditure on education as % of ...  5.72   \n",
      "355  Total public expenditure on education as % of ...  5.15   \n",
      "356  Total public expenditure on education as % of ...  5.20   \n",
      "357  Total public expenditure on education as % of ...  5.69   \n",
      "358  Total public expenditure on education as % of ...  5.68   \n",
      "359  Total public expenditure on education as % of ...  5.68   \n",
      "360  Total public expenditure on education as % of ...  3.92   \n",
      "361  Total public expenditure on education as % of ...  3.99   \n",
      "362  Total public expenditure on education as % of ...  4.31   \n",
      "363  Total public expenditure on education as % of ...  4.30   \n",
      "364  Total public expenditure on education as % of ...  4.19   \n",
      "365  Total public expenditure on education as % of ...  3.85   \n",
      "366  Total public expenditure on education as % of ...  3.80   \n",
      "367  Total public expenditure on education as % of ...  3.62   \n",
      "368  Total public expenditure on education as % of ...  3.61   \n",
      "369  Total public expenditure on education as % of ...  4.09   \n",
      "370  Total public expenditure on education as % of ...  4.22   \n",
      "371  Total public expenditure on education as % of ...  4.06   \n",
      "372  Total public expenditure on education as % of ...  5.89   \n",
      "373  Total public expenditure on education as % of ...  6.06   \n",
      "374  Total public expenditure on education as % of ...  6.22   \n",
      "375  Total public expenditure on education as % of ...  6.43   \n",
      "376  Total public expenditure on education as % of ...  6.42   \n",
      "377  Total public expenditure on education as % of ...  6.30   \n",
      "378  Total public expenditure on education as % of ...  6.18   \n",
      "379  Total public expenditure on education as % of ...  5.90   \n",
      "380  Total public expenditure on education as % of ...  6.10   \n",
      "381  Total public expenditure on education as % of ...  6.81   \n",
      "382  Total public expenditure on education as % of ...  6.85   \n",
      "383  Total public expenditure on education as % of ...  6.76   \n",
      "\n",
      "    Flag and Footnotes  \n",
      "0                  NaN  \n",
      "1                  NaN  \n",
      "2                    e  \n",
      "3                    e  \n",
      "4                    e  \n",
      "5                    e  \n",
      "6                    e  \n",
      "7                    e  \n",
      "8                    e  \n",
      "9                    e  \n",
      "10                   e  \n",
      "11                   e  \n",
      "12                   s  \n",
      "13                   s  \n",
      "14                   e  \n",
      "15                   e  \n",
      "16                   e  \n",
      "17                   e  \n",
      "18                   e  \n",
      "19                   e  \n",
      "20                   e  \n",
      "21                   e  \n",
      "22                   e  \n",
      "23                   e  \n",
      "24                   s  \n",
      "25                   s  \n",
      "26                   e  \n",
      "27                   e  \n",
      "28                   e  \n",
      "29                   e  \n",
      "..                 ...  \n",
      "354                NaN  \n",
      "355                NaN  \n",
      "356                NaN  \n",
      "357                NaN  \n",
      "358                NaN  \n",
      "359                NaN  \n",
      "360                  i  \n",
      "361                  d  \n",
      "362                  d  \n",
      "363                  d  \n",
      "364                  d  \n",
      "365                  d  \n",
      "366                  d  \n",
      "367                  d  \n",
      "368                  d  \n",
      "369                  d  \n",
      "370                  d  \n",
      "371                  d  \n",
      "372                NaN  \n",
      "373                NaN  \n",
      "374                NaN  \n",
      "375                NaN  \n",
      "376                NaN  \n",
      "377                NaN  \n",
      "378                NaN  \n",
      "379                NaN  \n",
      "380                NaN  \n",
      "381                NaN  \n",
      "382                NaN  \n",
      "383                NaN  \n",
      "\n",
      "[384 rows x 5 columns]\n"
     ]
    }
   ],
   "source": [
    "import pandas as pd \n",
    "df = pd.read_csv(\"data/educ_figdp_1_Data.csv\")\n",
    "print(df)"
   ]
  },
  {
   "cell_type": "markdown",
   "metadata": {},
   "source": [
    "Indexing and selecting : Indexing in pandas means simply selecting particular rows and columns of data from a DataFrame. Indexing could mean selecting all the rows and some of the columns, some of the rows and all of the columns, or some of each of the rows and columns. Indexing can also be known as Subset Selection."
   ]
  },
  {
   "cell_type": "code",
   "execution_count": 6,
   "metadata": {
    "scrolled": true
   },
   "outputs": [
    {
     "name": "stdout",
     "output_type": "stream",
     "text": [
      "0      European Union (28 countries)\n",
      "1      European Union (28 countries)\n",
      "2      European Union (28 countries)\n",
      "3      European Union (28 countries)\n",
      "4      European Union (28 countries)\n",
      "5      European Union (28 countries)\n",
      "6      European Union (28 countries)\n",
      "7      European Union (28 countries)\n",
      "8      European Union (28 countries)\n",
      "9      European Union (28 countries)\n",
      "10     European Union (28 countries)\n",
      "11     European Union (28 countries)\n",
      "12     European Union (27 countries)\n",
      "13     European Union (27 countries)\n",
      "14     European Union (27 countries)\n",
      "15     European Union (27 countries)\n",
      "16     European Union (27 countries)\n",
      "17     European Union (27 countries)\n",
      "18     European Union (27 countries)\n",
      "19     European Union (27 countries)\n",
      "20     European Union (27 countries)\n",
      "21     European Union (27 countries)\n",
      "22     European Union (27 countries)\n",
      "23     European Union (27 countries)\n",
      "24     European Union (25 countries)\n",
      "25     European Union (25 countries)\n",
      "26     European Union (25 countries)\n",
      "27     European Union (25 countries)\n",
      "28     European Union (25 countries)\n",
      "29     European Union (25 countries)\n",
      "                   ...              \n",
      "354                         Slovenia\n",
      "355                         Slovenia\n",
      "356                         Slovenia\n",
      "357                         Slovenia\n",
      "358                         Slovenia\n",
      "359                         Slovenia\n",
      "360                         Slovakia\n",
      "361                         Slovakia\n",
      "362                         Slovakia\n",
      "363                         Slovakia\n",
      "364                         Slovakia\n",
      "365                         Slovakia\n",
      "366                         Slovakia\n",
      "367                         Slovakia\n",
      "368                         Slovakia\n",
      "369                         Slovakia\n",
      "370                         Slovakia\n",
      "371                         Slovakia\n",
      "372                          Finland\n",
      "373                          Finland\n",
      "374                          Finland\n",
      "375                          Finland\n",
      "376                          Finland\n",
      "377                          Finland\n",
      "378                          Finland\n",
      "379                          Finland\n",
      "380                          Finland\n",
      "381                          Finland\n",
      "382                          Finland\n",
      "383                          Finland\n",
      "Name: GEO, Length: 384, dtype: object\n"
     ]
    }
   ],
   "source": [
    "s = df['GEO']\n",
    "print(s)"
   ]
  },
  {
   "cell_type": "code",
   "execution_count": 7,
   "metadata": {},
   "outputs": [
    {
     "name": "stdout",
     "output_type": "stream",
     "text": [
      "Luxembourg\n"
     ]
    }
   ],
   "source": [
    "print(s[254])"
   ]
  },
  {
   "cell_type": "markdown",
   "metadata": {},
   "source": [
    "You can pass a list of columns to [] to select columns in that order. If a column is not contained in the DataFrame, an exception will be raised. Multiple columns can also be set in this manner:"
   ]
  },
  {
   "cell_type": "code",
   "execution_count": 9,
   "metadata": {
    "scrolled": false
   },
   "outputs": [
    {
     "name": "stdout",
     "output_type": "stream",
     "text": [
      "                               GEO Value\n",
      "0    European Union (28 countries)     :\n",
      "1    European Union (28 countries)     :\n",
      "2    European Union (28 countries)  5.00\n",
      "3    European Union (28 countries)  5.03\n",
      "4    European Union (28 countries)  4.95\n",
      "5    European Union (28 countries)  4.92\n",
      "6    European Union (28 countries)  4.91\n",
      "7    European Union (28 countries)  4.92\n",
      "8    European Union (28 countries)  5.04\n",
      "9    European Union (28 countries)  5.38\n",
      "10   European Union (28 countries)  5.41\n",
      "11   European Union (28 countries)  5.25\n",
      "12   European Union (27 countries)  4.91\n",
      "13   European Union (27 countries)  4.99\n",
      "14   European Union (27 countries)  5.00\n",
      "15   European Union (27 countries)  5.04\n",
      "16   European Union (27 countries)  4.95\n",
      "17   European Union (27 countries)  4.92\n",
      "18   European Union (27 countries)  4.91\n",
      "19   European Union (27 countries)  4.93\n",
      "20   European Union (27 countries)  5.04\n",
      "21   European Union (27 countries)  5.38\n",
      "22   European Union (27 countries)  5.41\n",
      "23   European Union (27 countries)  5.25\n",
      "24   European Union (25 countries)  4.94\n",
      "25   European Union (25 countries)  5.02\n",
      "26   European Union (25 countries)  5.03\n",
      "27   European Union (25 countries)  5.06\n",
      "28   European Union (25 countries)  4.98\n",
      "29   European Union (25 countries)  4.95\n",
      "..                             ...   ...\n",
      "354                       Slovenia  5.72\n",
      "355                       Slovenia  5.15\n",
      "356                       Slovenia  5.20\n",
      "357                       Slovenia  5.69\n",
      "358                       Slovenia  5.68\n",
      "359                       Slovenia  5.68\n",
      "360                       Slovakia  3.92\n",
      "361                       Slovakia  3.99\n",
      "362                       Slovakia  4.31\n",
      "363                       Slovakia  4.30\n",
      "364                       Slovakia  4.19\n",
      "365                       Slovakia  3.85\n",
      "366                       Slovakia  3.80\n",
      "367                       Slovakia  3.62\n",
      "368                       Slovakia  3.61\n",
      "369                       Slovakia  4.09\n",
      "370                       Slovakia  4.22\n",
      "371                       Slovakia  4.06\n",
      "372                        Finland  5.89\n",
      "373                        Finland  6.06\n",
      "374                        Finland  6.22\n",
      "375                        Finland  6.43\n",
      "376                        Finland  6.42\n",
      "377                        Finland  6.30\n",
      "378                        Finland  6.18\n",
      "379                        Finland  5.90\n",
      "380                        Finland  6.10\n",
      "381                        Finland  6.81\n",
      "382                        Finland  6.85\n",
      "383                        Finland  6.76\n",
      "\n",
      "[384 rows x 2 columns]\n"
     ]
    }
   ],
   "source": [
    "print(df[[\"GEO\",\"Value\"]])"
   ]
  },
  {
   "cell_type": "markdown",
   "metadata": {},
   "source": [
    "Pandas provide a unique method to retrieve rows from a Data frame. Dataframe.iloc[] method is used when the index label of a data frame is something other than numeric series of 0, 1, 2, 3….n or in case the user doesn’t know the index label. Rows can be extracted using an imaginary index position which isn’t visible in the data frame"
   ]
  },
  {
   "cell_type": "code",
   "execution_count": 18,
   "metadata": {
    "scrolled": false
   },
   "outputs": [
    {
     "name": "stdout",
     "output_type": "stream",
     "text": [
      "                             GEO Value\n",
      "2  European Union (28 countries)  5.00\n"
     ]
    }
   ],
   "source": [
    "t = df[[\"GEO\",\"Value\"]]\n",
    "print(t.iloc[[2]])"
   ]
  },
  {
   "cell_type": "markdown",
   "metadata": {},
   "source": [
    "You can also assign a dict to a row of a DataFrame:"
   ]
  },
  {
   "cell_type": "code",
   "execution_count": 23,
   "metadata": {},
   "outputs": [
    {
     "name": "stdout",
     "output_type": "stream",
     "text": [
      "   TIME        GEO   INDIC_ED Value Flag and Footnotes\n",
      "3  2020  Hong Kong  New value     9      New FootNotes\n"
     ]
    }
   ],
   "source": [
    "df.iloc[3] = {'GEO':\"Hong Kong\",'Value':9.00,'INDIC_ED':\"New value\",\"TIME\":2020,\"Flag and Footnotes\":\"New FootNotes\"}\n",
    "print(df.iloc[[3]])"
   ]
  }
 ],
 "metadata": {
  "kernelspec": {
   "display_name": "Python 3",
   "language": "python",
   "name": "python3"
  },
  "language_info": {
   "codemirror_mode": {
    "name": "ipython",
    "version": 3
   },
   "file_extension": ".py",
   "mimetype": "text/x-python",
   "name": "python",
   "nbconvert_exporter": "python",
   "pygments_lexer": "ipython3",
   "version": "3.7.3"
  }
 },
 "nbformat": 4,
 "nbformat_minor": 2
}
